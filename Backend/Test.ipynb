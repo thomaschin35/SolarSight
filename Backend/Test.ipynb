{
 "cells": [
  {
   "cell_type": "code",
   "execution_count": null,
   "metadata": {},
   "outputs": [
    {
     "name": "stdout",
     "output_type": "stream",
     "text": [
      "{\"inputs\":{\"body\":{},\"params\":{},\"query\":{}},\"metadata\":{\"version\":\"2.0.0\"},\"status\":400,\"errors\":[\"The required 'email' parameter must be a valid email address\",\"The required 'wkt' or 'location_ids' must be a string or any array of integers respectively\",\"The required 'names' or 'years' parameter must contain a list of comma separated numbers with values between 1998 and 2021\"]}\n"
     ]
    }
   ],
   "source": []
  },
  {
   "cell_type": "code",
   "execution_count": 20,
   "metadata": {},
   "outputs": [],
   "source": [
    "%matplotlib inline\n",
    "import h5pyd\n",
    "import numpy as np\n",
    "import pandas as pd\n",
    "import matplotlib.pyplot as plt\n",
    "import matplotlib.image as mpimg\n"
   ]
  }
 ],
 "metadata": {
  "kernelspec": {
   "display_name": "base",
   "language": "python",
   "name": "python3"
  },
  "language_info": {
   "codemirror_mode": {
    "name": "ipython",
    "version": 3
   },
   "file_extension": ".py",
   "mimetype": "text/x-python",
   "name": "python",
   "nbconvert_exporter": "python",
   "pygments_lexer": "ipython3",
   "version": "3.8.8"
  },
  "orig_nbformat": 4,
  "vscode": {
   "interpreter": {
    "hash": "eab335421eb435d2f7455a4befad4462d6509412a468596bf9449c363eb50ab1"
   }
  }
 },
 "nbformat": 4,
 "nbformat_minor": 2
}
